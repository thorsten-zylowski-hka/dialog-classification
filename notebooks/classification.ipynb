{
 "cells": [
  {
   "cell_type": "code",
   "execution_count": 11,
   "metadata": {},
   "outputs": [],
   "source": [
    "from transformers import pipeline\n",
    "import lime\n",
    "from lime.lime_text import LimeTextExplainer\n",
    "import torch.nn.functional as F\n",
    "from transformers import AutoTokenizer, AutoModelForSequenceClassification\n",
    "from IPython.core.display import HTML\n",
    "from nltk.corpus import stopwords\n"
   ]
  },
  {
   "cell_type": "code",
   "execution_count": 12,
   "metadata": {},
   "outputs": [],
   "source": [
    "riasec = ['conventional', 'realistic', 'investigative', 'enterprising', 'social', 'artistic']"
   ]
  },
  {
   "cell_type": "code",
   "execution_count": 13,
   "metadata": {},
   "outputs": [],
   "source": [
    "classifier = pipeline('zero-shot-classification', model='facebook/bart-large-mnli')"
   ]
  },
  {
   "cell_type": "code",
   "execution_count": 14,
   "metadata": {},
   "outputs": [],
   "source": [
    "filename_model = 'facebook/bart-large-mnli'\n",
    "tokenizer = AutoTokenizer.from_pretrained(filename_model)\n",
    "model = AutoModelForSequenceClassification.from_pretrained(filename_model)"
   ]
  },
  {
   "cell_type": "code",
   "execution_count": 15,
   "metadata": {},
   "outputs": [],
   "source": [
    "text_long = ' She achieves good grades in sciences, Math, and German. She is very interested in science and is a member of the technology and science clubs at her school, where her teachers have told her that she is very talented. Through her membership in these clubs, she has access to a tech lab. She is currently also working on a mini-job basis in an electronics store. Fatma is interested in university studies. Her parents are quite conservative and are uncertain of academic success for their daughter and therefore prefer Fatma starting vocational training after grade 10. She thus faces a conflict between self-fulfillment and satisfying her parents, whom she also does not want to disappoint.'\n",
    "#text = ' She achieves good grades in sciences, Math, and German. She is very interested in science and is a member of the technology and science clubs at her school, where her teachers have told her that she is very talented. Through her membership in these clubs, she has access to a tech lab. '\n",
    "text = 'I like to draw paintings with oil on a canvas.'\n",
    "#text = 'I think that AI and robots will take over the world and destroy humanity.'"
   ]
  },
  {
   "cell_type": "code",
   "execution_count": 16,
   "metadata": {},
   "outputs": [
    {
     "data": {
      "text/plain": [
       "{'sequence': 'I like to draw paintings with oil on a canvas.',\n",
       " 'labels': ['artistic',\n",
       "  'enterprising',\n",
       "  'social',\n",
       "  'conventional',\n",
       "  'realistic',\n",
       "  'investigative'],\n",
       " 'scores': [0.8289536237716675,\n",
       "  0.07523660361766815,\n",
       "  0.0406937301158905,\n",
       "  0.020833542570471764,\n",
       "  0.01776549592614174,\n",
       "  0.01651705801486969]}"
      ]
     },
     "execution_count": 16,
     "metadata": {},
     "output_type": "execute_result"
    }
   ],
   "source": [
    "result = classifier(text, candidate_labels = riasec)\n",
    "result"
   ]
  },
  {
   "cell_type": "code",
   "execution_count": 17,
   "metadata": {},
   "outputs": [],
   "source": [
    "german_stopwords = stopwords.words('german')\n",
    "english_stopwords = stopwords.words('english')"
   ]
  },
  {
   "cell_type": "code",
   "execution_count": 18,
   "metadata": {},
   "outputs": [],
   "source": [
    "def predictor(texts):\n",
    "    inputs = []\n",
    "    for text in texts:\n",
    "        text_parts = text.split('</>')\n",
    "        premise = text_parts[0]\n",
    "        hypothesis = text_parts[1]\n",
    "        inputs.append((premise, hypothesis))\n",
    "    outputs = model(**tokenizer(inputs, return_tensors=\"pt\", padding=True))\n",
    "    tensor_logits = outputs[0]\n",
    "    probas = F.softmax(tensor_logits, dim=1).detach().numpy()    \n",
    "    return probas"
   ]
  },
  {
   "cell_type": "code",
   "execution_count": 19,
   "metadata": {},
   "outputs": [
    {
     "name": "stdout",
     "output_type": "stream",
     "text": [
      "artistic\n"
     ]
    },
    {
     "data": {
      "text/html": [
       "<h2>artistic</h2><span style=\"background-color:rgba(65, 105, 225);\">Positive</span><span style=\"background-color:rgba(255, 140, 0);\">Negative</span><h3>contradiction</h3><p><span style=\"background-color:rgba(255, 140, 0,0.2793900736858438);\">I</span> <span style=\"background-color:rgba(255, 140, 0,0.10838775455519126);\">like</span> to <span style=\"background-color:rgba(255, 140, 0,0.2826784597931036);\">draw</span> <span style=\"background-color:rgba(255, 140, 0,0.026847020508767305);\">paintings</span> with <span style=\"background-color:rgba(65, 105, 225,0.01018902778006946);\">oil</span> on a <span style=\"background-color:rgba(255, 140, 0,0.19773105110992809);\">canvas</span>.</p><h3>neutral</h3><p><span style=\"background-color:rgba(65, 105, 225,0.643603086721811);\">I</span> <span style=\"background-color:rgba(255, 140, 0,0.09113103460465463);\">like</span> to <span style=\"background-color:rgba(255, 140, 0,0.4956302472776243);\">draw</span> <span style=\"background-color:rgba(255, 140, 0,0.7723240798670488);\">paintings</span> with <span style=\"background-color:rgba(65, 105, 225,0.2375767439705071);\">oil</span> on a <span style=\"background-color:rgba(255, 140, 0,0.0476896393998271);\">canvas</span>.</p><h3>entailment</h3><p><span style=\"background-color:rgba(255, 140, 0,0.36421305827823386);\">I</span> <span style=\"background-color:rgba(65, 105, 225,0.19951890420947144);\">like</span> to <span style=\"background-color:rgba(65, 105, 225,0.7783086334408313);\">draw</span> <span style=\"background-color:rgba(65, 105, 225,0.7991711636654875);\">paintings</span> with <span style=\"background-color:rgba(255, 140, 0,0.247765868155197);\">oil</span> on a <span style=\"background-color:rgba(65, 105, 225,0.2454206035897591);\">canvas</span>.</p>"
      ],
      "text/plain": [
       "<IPython.core.display.HTML object>"
      ]
     },
     "execution_count": 19,
     "metadata": {},
     "output_type": "execute_result"
    }
   ],
   "source": [
    "# classify\n",
    "result = classifier(text, candidate_labels = riasec)\n",
    "most_probable_label = result['labels'][result['scores'].index(max(result['scores']))]\n",
    "\n",
    "# explain\n",
    "mlni_label =  ['contradiction', 'neutral', 'entailment']\n",
    "print(most_probable_label)\n",
    "exp_text = text + '</>' + 'This example is ' + most_probable_label + '.'\n",
    "\n",
    "explainer = LimeTextExplainer(class_names=mlni_label)\n",
    "exp = explainer.explain_instance(exp_text, predictor, num_features=15, num_samples=100, top_labels=3)\n",
    "\n",
    "html_texts = \"<h2>\"+most_probable_label+\"</h2>\"\n",
    "base_colors = [\"65, 105, 225\", \"255, 140, 0\"]\n",
    "\n",
    "html_texts += '<span style=\"background-color:rgba('+base_colors[0]+');\">Positive</span>'\n",
    "html_texts += '<span style=\"background-color:rgba('+base_colors[1]+');\">Negative</span>'\n",
    "\n",
    "\n",
    "#for idx in exp.available_labels():\n",
    "for idx in [0,1,2]:\n",
    "    html_text = \"<p>\" + text + \"</p>\"\n",
    "    pred_class = mlni_label[idx]\n",
    "    highlights = exp.as_list(label=idx)\n",
    "\n",
    "    already_highlighted = []\n",
    "\n",
    "    for word, value in highlights:\n",
    "\n",
    "        if word in already_highlighted or word in english_stopwords:\n",
    "            continue\n",
    "\n",
    "        already_highlighted.append(word)\n",
    "        base_color = base_colors[0]\n",
    "        if value < 0:\n",
    "            base_color = base_colors[1]\n",
    "            value = -value\n",
    "        html_text = html_text.replace(word, '<span style=\"background-color:rgba('+base_color+','+str(value*10)+');\">' + word + '</span>')\n",
    "    class_disp = \"<h3>\"+pred_class+\"</h3>\"\n",
    "    html_texts = html_texts + class_disp + html_text\n",
    "HTML(html_texts)\n"
   ]
  },
  {
   "cell_type": "code",
   "execution_count": 20,
   "metadata": {},
   "outputs": [
    {
     "data": {
      "text/plain": [
       "[('artistic', 0.45064555136099405),\n",
       " ('is', -0.13278034409769263),\n",
       " ('with', -0.09046589949120915),\n",
       " ('paintings', 0.07991711636654875),\n",
       " ('draw', 0.07783086334408314),\n",
       " ('example', -0.07570553009251148),\n",
       " ('This', -0.06660073407272886),\n",
       " ('to', -0.0445329141752559),\n",
       " ('on', -0.04033300204429178),\n",
       " ('I', -0.03642130582782339),\n",
       " ('oil', -0.0247765868155197),\n",
       " ('canvas', 0.02454206035897591),\n",
       " ('like', 0.019951890420947145),\n",
       " ('a', 0.01548164410801061)]"
      ]
     },
     "execution_count": 20,
     "metadata": {},
     "output_type": "execute_result"
    }
   ],
   "source": [
    "exp.as_list(label=2)"
   ]
  },
  {
   "cell_type": "code",
   "execution_count": 1,
   "metadata": {},
   "outputs": [
    {
     "name": "stderr",
     "output_type": "stream",
     "text": [
      "c:\\Users\\zyth0001\\Anaconda3\\envs\\dialog-classification\\lib\\site-packages\\tqdm\\auto.py:22: TqdmWarning: IProgress not found. Please update jupyter and ipywidgets. See https://ipywidgets.readthedocs.io/en/stable/user_install.html\n",
      "  from .autonotebook import tqdm as notebook_tqdm\n"
     ]
    },
    {
     "name": "stdout",
     "output_type": "stream",
     "text": [
      "Classification Result: {'sequence': 'Ich male gerne mit Ölfarben auf Leinwände.', 'labels': ['künstlerisch', 'sozial', 'investigativ', 'konventionell', 'unternehmerisch', 'realistisch'], 'scores': [0.6761776804924011, 0.12924496829509735, 0.06201709061861038, 0.0512198880314827, 0.04103587940335274, 0.04030449688434601]}\n",
      "Explanation: {'label': 'künstlerisch', 'highlights': [{'key': 'mit', 'value': -0.019699673298812104}, {'key': 'Ölfarben', 'value': 0.01607146873328142}, {'key': 'Ich', 'value': -0.01460975509297848}, {'key': 'auf', 'value': 0.012080694272585452}, {'key': 'male', 'value': -0.0117092584679759}, {'key': 'Leinwände', 'value': 0.010141154599231662}, {'key': 'gerne', 'value': 0.004742624167008458}]}\n"
     ]
    }
   ],
   "source": [
    "from label_classification import ZeroShotLabelClassifier\n",
    "from label_classification import ZeroShotLabelClassifierExplainer\n",
    "\n",
    "riasec = ['konventionell', 'realistisch', 'investigativ', 'unternehmerisch', 'sozial', 'künstlerisch']\n",
    "text = 'Ich male gerne mit Ölfarben auf Leinwände.'\n",
    "\n",
    "hypothesis_template = \"Dieser Satz ist {}.\" \n",
    "model_name = 'svalabs/gbert-large-zeroshot-nli'\n",
    "\n",
    "label_classifier = ZeroShotLabelClassifier(labels=riasec, model_name=model_name, hypothesis_template=hypothesis_template)\n",
    "classification_result = label_classifier.classify(text)\n",
    "\n",
    "print(\"Classification Result:\", classification_result)\n",
    "\n",
    "explainer = ZeroShotLabelClassifierExplainer(model_name=model_name, hypothesis_template=hypothesis_template)\n",
    "most_likely_label = classification_result['labels'][0]\n",
    "explanation = explainer.explain(text, label=most_likely_label, num_samples=500)\n",
    "\n",
    "print(\"Explanation:\", explanation)"
   ]
  },
  {
   "cell_type": "code",
   "execution_count": 4,
   "metadata": {},
   "outputs": [
    {
     "data": {
      "text/plain": [
       "[('künstlerisch', -0.27583054519670597),\n",
       " ('Satz', -0.028239034199067908),\n",
       " ('Ich', -0.017440056389824005),\n",
       " ('gerne', 0.01683523589818306),\n",
       " ('Dieser', -0.011961222919886274),\n",
       " ('auf', 0.011844058096153754),\n",
       " ('male', 0.009472113940166406),\n",
       " ('Leinwände', 0.006018754902110311),\n",
       " ('Ölfarben', -0.004320230246263173),\n",
       " ('mit', 0.0042881870837588),\n",
       " ('ist', -0.002133286568133212)]"
      ]
     },
     "execution_count": 4,
     "metadata": {},
     "output_type": "execute_result"
    }
   ],
   "source": [
    "explanation"
   ]
  },
  {
   "cell_type": "code",
   "execution_count": 6,
   "metadata": {},
   "outputs": [
    {
     "name": "stdout",
     "output_type": "stream",
     "text": [
      "Classification Result: {'sequence': 'I like to draw paintings with oil on a canvas.', 'labels': ['artistic', 'enterprising', 'social', 'conventional', 'realistic', 'investigative'], 'scores': [0.8289536237716675, 0.07523660361766815, 0.0406937301158905, 0.020833542570471764, 0.01776549592614174, 0.01651705801486969]}\n",
      "Explanation: [('artistic', 0.5180652546543094), ('is', -0.1172885350094423), ('with', -0.09541382498477957), ('paintings', 0.08335546547578707), ('oil', -0.07009838241002983), ('example', -0.06874800570680951), ('I', -0.050959537567378387), ('on', -0.050236912535283805), ('draw', 0.047615706955168466), ('a', 0.03868497582078177), ('This', -0.0385271696006294), ('to', -0.03514698021738425), ('like', -0.023746628390619695), ('canvas', 0.012904417043864759)]\n"
     ]
    }
   ],
   "source": [
    "from label_classification import ZeroShotLabelClassifier\n",
    "from label_classification import ZeroShotLabelClassifierExplainer\n",
    "\n",
    "riasec = ['conventional', 'realistic', 'investigative', 'enterprising', 'social', 'artistic']\n",
    "# text = 'I like to draw paintings with oil on a canvas.'\n",
    "text = 'Ich male gerne mit Ölfarben auf Leinwände.'\n",
    "\n",
    "label_classifier = ZeroShotLabelClassifier(labels=riasec)\n",
    "classification_result = label_classifier.classify(text)\n",
    "\n",
    "print(\"Classification Result:\", classification_result)\n",
    "\n",
    "explainer = ZeroShotLabelClassifierExplainer()\n",
    "most_likely_label = classification_result['labels'][0]\n",
    "explanation = explainer.explain(text, label=most_likely_label)\n",
    "\n",
    "print(\"Explanation:\", explanation)\n",
    "\n"
   ]
  }
 ],
 "metadata": {
  "kernelspec": {
   "display_name": "Python 3.10.6 ('dialog-classification')",
   "language": "python",
   "name": "python3"
  },
  "language_info": {
   "codemirror_mode": {
    "name": "ipython",
    "version": 3
   },
   "file_extension": ".py",
   "mimetype": "text/x-python",
   "name": "python",
   "nbconvert_exporter": "python",
   "pygments_lexer": "ipython3",
   "version": "3.10.6"
  },
  "orig_nbformat": 4,
  "vscode": {
   "interpreter": {
    "hash": "9c0e3b42618d32ec6361b866f028b0aedaa2f9f652f2692803f140ce18f5da83"
   }
  }
 },
 "nbformat": 4,
 "nbformat_minor": 2
}
