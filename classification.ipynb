{
 "cells": [
  {
   "cell_type": "code",
   "execution_count": 22,
   "metadata": {},
   "outputs": [],
   "source": [
    "from transformers import pipeline\n",
    "import lime\n",
    "from lime.lime_text import LimeTextExplainer\n",
    "import torch.nn.functional as F\n",
    "from transformers import AutoTokenizer, AutoModelForSequenceClassification\n",
    "from IPython.core.display import HTML\n",
    "from nltk.corpus import stopwords\n"
   ]
  },
  {
   "cell_type": "code",
   "execution_count": 2,
   "metadata": {},
   "outputs": [],
   "source": [
    "riasec = ['conventional', 'realistic', 'investigative', 'enterprising', 'social', 'artistic']"
   ]
  },
  {
   "cell_type": "code",
   "execution_count": 71,
   "metadata": {},
   "outputs": [],
   "source": [
    "classifier = pipeline('zero-shot-classification', model='facebook/bart-large-mnli')"
   ]
  },
  {
   "cell_type": "code",
   "execution_count": 4,
   "metadata": {},
   "outputs": [],
   "source": [
    "filename_model = 'facebook/bart-large-mnli'\n",
    "tokenizer = AutoTokenizer.from_pretrained(filename_model)\n",
    "model = AutoModelForSequenceClassification.from_pretrained(filename_model)"
   ]
  },
  {
   "cell_type": "code",
   "execution_count": 163,
   "metadata": {},
   "outputs": [],
   "source": [
    "text_long = ' She achieves good grades in sciences, Math, and German. She is very interested in science and is a member of the technology and science clubs at her school, where her teachers have told her that she is very talented. Through her membership in these clubs, she has access to a tech lab. She is currently also working on a mini-job basis in an electronics store. Fatma is interested in university studies. Her parents are quite conservative and are uncertain of academic success for their daughter and therefore prefer Fatma starting vocational training after grade 10. She thus faces a conflict between self-fulfillment and satisfying her parents, whom she also does not want to disappoint.'\n",
    "#text = ' She achieves good grades in sciences, Math, and German. She is very interested in science and is a member of the technology and science clubs at her school, where her teachers have told her that she is very talented. Through her membership in these clubs, she has access to a tech lab. '\n",
    "text = 'I like to draw paintings with oil on a canvas.'\n",
    "#text = 'I think that AI and robots will take over the world and destroy humanity.'"
   ]
  },
  {
   "cell_type": "code",
   "execution_count": 164,
   "metadata": {},
   "outputs": [
    {
     "data": {
      "text/plain": [
       "{'sequence': 'I like to draw paintings with oil on a canvas.',\n",
       " 'labels': ['artistic',\n",
       "  'enterprising',\n",
       "  'social',\n",
       "  'conventional',\n",
       "  'realistic',\n",
       "  'investigative'],\n",
       " 'scores': [0.8289536237716675,\n",
       "  0.07523660361766815,\n",
       "  0.0406937301158905,\n",
       "  0.020833542570471764,\n",
       "  0.01776549592614174,\n",
       "  0.01651705801486969]}"
      ]
     },
     "execution_count": 164,
     "metadata": {},
     "output_type": "execute_result"
    }
   ],
   "source": [
    "result = classifier(text, candidate_labels = riasec)\n",
    "result"
   ]
  },
  {
   "cell_type": "code",
   "execution_count": 144,
   "metadata": {},
   "outputs": [],
   "source": [
    "german_stopwords = stopwords.words('german')\n",
    "english_stopwords = stopwords.words('english')"
   ]
  },
  {
   "cell_type": "code",
   "execution_count": 161,
   "metadata": {},
   "outputs": [],
   "source": [
    "def predictor(texts):\n",
    "    inputs = []\n",
    "    for text in texts:\n",
    "        text_parts = text.split('</>')\n",
    "        premise = text_parts[0]\n",
    "        hypothesis = text_parts[1]\n",
    "        inputs.append((premise, hypothesis))\n",
    "    outputs = model(**tokenizer(inputs, return_tensors=\"pt\", padding=True))\n",
    "    tensor_logits = outputs[0]\n",
    "    probas = F.softmax(tensor_logits, dim=1).detach().numpy()    \n",
    "    return probas"
   ]
  },
  {
   "cell_type": "code",
   "execution_count": 165,
   "metadata": {},
   "outputs": [
    {
     "name": "stdout",
     "output_type": "stream",
     "text": [
      "artistic\n"
     ]
    },
    {
     "data": {
      "text/html": [
       "<h2>artistic</h2><span style=\"background-color:rgba(65, 105, 225);\">Positive</span><span style=\"background-color:rgba(255, 140, 0);\">Negative</span><h3>contradiction</h3><p><span style=\"background-color:rgba(65, 105, 225,0.09698237188198759);\">I</span> <span style=\"background-color:rgba(255, 140, 0,0.0589273360281959);\">like</span> to <span style=\"background-color:rgba(255, 140, 0,0.08401021077943294);\">draw</span> <span style=\"background-color:rgba(65, 105, 225,0.15697747108136015);\">paintings</span> with <span style=\"background-color:rgba(255, 140, 0,0.16746889192746384);\">oil</span> on a <span style=\"background-color:rgba(255, 140, 0,0.39008703998926314);\">canvas</span>.</p><h3>neutral</h3><p><span style=\"background-color:rgba(255, 140, 0,0.21802052840086486);\">I</span> <span style=\"background-color:rgba(255, 140, 0,0.2616668898572636);\">like</span> to <span style=\"background-color:rgba(255, 140, 0,0.8433274162339803);\">draw</span> <span style=\"background-color:rgba(255, 140, 0,1.3781953489269936);\">paintings</span> with <span style=\"background-color:rgba(65, 105, 225,0.1788166908376174);\">oil</span> on a <span style=\"background-color:rgba(65, 105, 225,0.22885549839404024);\">canvas</span>.</p><h3>entailment</h3><p><span style=\"background-color:rgba(65, 105, 225,0.12103822193321075);\">I</span> <span style=\"background-color:rgba(65, 105, 225,0.3205942476434933);\">like</span> to <span style=\"background-color:rgba(65, 105, 225,0.9273375139336627);\">draw</span> <span style=\"background-color:rgba(65, 105, 225,1.2212179968150705);\">paintings</span> with <span style=\"background-color:rgba(255, 140, 0,0.011347778545304658);\">oil</span> on a <span style=\"background-color:rgba(65, 105, 225,0.16123161913198936);\">canvas</span>.</p>"
      ],
      "text/plain": [
       "<IPython.core.display.HTML object>"
      ]
     },
     "execution_count": 165,
     "metadata": {},
     "output_type": "execute_result"
    }
   ],
   "source": [
    "# classify\n",
    "result = classifier(text, candidate_labels = riasec)\n",
    "most_probable_label = result['labels'][result['scores'].index(max(result['scores']))]\n",
    "\n",
    "# explain\n",
    "mlni_label =  ['contradiction', 'neutral', 'entailment']\n",
    "print(most_probable_label)\n",
    "exp_text = text + '</>' + 'This example is ' + most_probable_label + '.'\n",
    "\n",
    "explainer = LimeTextExplainer(class_names=mlni_label)\n",
    "exp = explainer.explain_instance(exp_text, predictor, num_features=15, num_samples=100, top_labels=3)\n",
    "\n",
    "html_texts = \"<h2>\"+most_probable_label+\"</h2>\"\n",
    "base_colors = [\"65, 105, 225\", \"255, 140, 0\"]\n",
    "\n",
    "html_texts += '<span style=\"background-color:rgba('+base_colors[0]+');\">Positive</span>'\n",
    "html_texts += '<span style=\"background-color:rgba('+base_colors[1]+');\">Negative</span>'\n",
    "\n",
    "\n",
    "#for idx in exp.available_labels():\n",
    "for idx in [0,1,2]:\n",
    "    html_text = \"<p>\" + text + \"</p>\"\n",
    "    pred_class = mlni_label[idx]\n",
    "    highlights = exp.as_list(label=idx)\n",
    "\n",
    "    already_highlighted = []\n",
    "\n",
    "    for word, value in highlights:\n",
    "\n",
    "        if word in already_highlighted or word in english_stopwords:\n",
    "            continue\n",
    "\n",
    "        already_highlighted.append(word)\n",
    "        base_color = base_colors[0]\n",
    "        if value < 0:\n",
    "            base_color = base_colors[1]\n",
    "            value = -value\n",
    "        html_text = html_text.replace(word, '<span style=\"background-color:rgba('+base_color+','+str(value*10)+');\">' + word + '</span>')\n",
    "    class_disp = \"<h3>\"+pred_class+\"</h3>\"\n",
    "    html_texts = html_texts + class_disp + html_text\n",
    "HTML(html_texts)\n"
   ]
  },
  {
   "cell_type": "code",
   "execution_count": 151,
   "metadata": {},
   "outputs": [
    {
     "data": {
      "text/plain": [
       "[('and', -0.08618430471412966),\n",
       " ('she', -0.0859298874292672),\n",
       " ('that', -0.06719110759849281),\n",
       " ('at', 0.061237579853974926),\n",
       " ('clubs', -0.058735758892011894),\n",
       " ('in', -0.057071755112204775),\n",
       " ('membership', -0.054079517865397414),\n",
       " ('access', -0.051213714037788204),\n",
       " ('to', 0.0411751789336965),\n",
       " ('Through', -0.034003017623415656),\n",
       " ('example', 0.03368673514533424),\n",
       " ('Math', 0.030179239986825087),\n",
       " ('these', 0.025607989542153462),\n",
       " ('has', -0.006308368329728049),\n",
       " ('This', -0.0007901448201678051)]"
      ]
     },
     "execution_count": 151,
     "metadata": {},
     "output_type": "execute_result"
    }
   ],
   "source": [
    "exp.as_list(label=2)"
   ]
  }
 ],
 "metadata": {
  "kernelspec": {
   "display_name": "Python 3.10.6 ('dialog-classification')",
   "language": "python",
   "name": "python3"
  },
  "language_info": {
   "codemirror_mode": {
    "name": "ipython",
    "version": 3
   },
   "file_extension": ".py",
   "mimetype": "text/x-python",
   "name": "python",
   "nbconvert_exporter": "python",
   "pygments_lexer": "ipython3",
   "version": "3.10.6"
  },
  "orig_nbformat": 4,
  "vscode": {
   "interpreter": {
    "hash": "9c0e3b42618d32ec6361b866f028b0aedaa2f9f652f2692803f140ce18f5da83"
   }
  }
 },
 "nbformat": 4,
 "nbformat_minor": 2
}
